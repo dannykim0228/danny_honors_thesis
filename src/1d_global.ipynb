{
 "cells": [
  {
   "cell_type": "code",
   "execution_count": 1,
   "metadata": {},
   "outputs": [
    {
     "name": "stdout",
     "output_type": "stream",
     "text": [
      "Current system time: 2024-10-28 10:58:05.252711\n"
     ]
    }
   ],
   "source": [
    "import jax\n",
    "import jax.numpy as jnp\n",
    "from jax import random, grad, jit\n",
    "import pandas as pd\n",
    "import numpy as np\n",
    "import datetime\n",
    "import pypomp\n",
    "import pypomp.fit\n",
    "import pypomp.pomp_class\n",
    "#import multiprocessing as mp\n",
    "\n",
    "print(\"Current system time:\", datetime.datetime.now())"
   ]
  },
  {
   "cell_type": "code",
   "execution_count": 2,
   "metadata": {},
   "outputs": [
    {
     "name": "stdout",
     "output_type": "stream",
     "text": [
      "2\n",
      "Running at level 1\n"
     ]
    }
   ],
   "source": [
    "ncores = 2\n",
    "print(ncores)\n",
    "RUN_LEVEL = 1\n",
    "match RUN_LEVEL:\n",
    "    case 1:\n",
    "        NP_FITR = 2\n",
    "        NFITR = 2\n",
    "        NREPS_FITR = ncores\n",
    "        NP_EVAL = 2\n",
    "        NREPS_EVAL = ncores\n",
    "        NREPS_EVAL2 = ncores\n",
    "        print(\"Running at level 1\")\n",
    "    case 2:\n",
    "        NP_FITR = 1000\n",
    "        NFITR = 200\n",
    "        NREPS_FITR = ncores\n",
    "        NP_EVAL = 5000\n",
    "        NREPS_EVAL = ncores\n",
    "        NREPS_EVAL2 = ncores*8\n",
    "        print(\"Running at level 2\")"
   ]
  },
  {
   "cell_type": "code",
   "execution_count": 3,
   "metadata": {},
   "outputs": [],
   "source": [
    "# Data Manipulation\n",
    "sp500_raw = pd.read_csv(\"../data/SPX.csv\")\n",
    "sp500 = sp500_raw.copy()\n",
    "sp500['date'] = pd.to_datetime(sp500['Date'])\n",
    "sp500['diff_days'] = (sp500['date'] - sp500['date'].min()).dt.days\n",
    "sp500['time'] = sp500['diff_days'].astype(float)\n",
    "sp500['y'] = np.log(sp500['Close'] / sp500['Close'].shift(1))\n",
    "sp500 = sp500.dropna(subset=['y'])[['time', 'y']]\n",
    "\n",
    "# Name of States and Parmeters\n",
    "sp500_statenames = [\"V\", \"S\"]\n",
    "sp500_rp_names = [\"mu\", \"kappa\", \"theta\", \"xi\", \"rho\"]\n",
    "sp500_ivp_names = [\"V_0\"]\n",
    "sp500_parameters = sp500_rp_names + sp500_ivp_names\n",
    "sp500_covarnames = [\"covaryt\"]\n",
    "\n"
   ]
  },
  {
   "cell_type": "code",
   "execution_count": 9,
   "metadata": {},
   "outputs": [],
   "source": [
    "def rproc(state, params, key, covars = None):\n",
    "    V, S, t = state\n",
    "    mu, kappa, theta, xi, rho, V_0 = params\n",
    "    mu = jnp.exp(mu)\n",
    "    xi = jnp.exp(xi)\n",
    "    rho = -1 + 2/(1 + jnp.exp(-rho))\n",
    "    t = t.astype(int)\n",
    "    t += 1\n",
    "    \n",
    "    # Wiener process generation (Gaussian noise)\n",
    "    dZ = random.normal(key)\n",
    "    \n",
    "    # Calculate dWs\n",
    "    dWs = (covars[t] - mu + 0.5 * V) / jnp.sqrt(V)\n",
    "\n",
    "    # dWv with correlation\n",
    "    dWv = rho * dWs + jnp.sqrt(1 - rho ** 2) * dZ\n",
    "    \n",
    "    # Update state variables\n",
    "    #S = S + S * (mu + jnp.sqrt(jnp.maximum(V, 0.0)) * dWs)\n",
    "    S = S + S * (mu + jnp.sqrt(V) * dWs)\n",
    "    V = V + xi * jnp.sqrt(V) * dWv\n",
    "    \n",
    "    # Feller condition to keep V positive\n",
    "    # V = jnp.maximum(V, 1e-32)\n",
    "    \n",
    "    return jnp.array([V, S, t])\n",
    "\n",
    "# Initialization Model\n",
    "def rinit(params, J, covars = None):\n",
    "    V_0 = jnp.exp(params[5])\n",
    "    S_0 = 1105  # Initial price\n",
    "    t = 0\n",
    "    return jnp.tile(jnp.array([V_0, S_0, t]), (J,1))\n",
    "\n",
    "# Measurement model: how we measure state\n",
    "def dmeasure(y, state, params):\n",
    "    V, S, t = state\n",
    "    mu = jnp.exp(params[0])\n",
    "    return jax.scipy.stats.norm.logpdf(y, mu - 0.5 * V, jnp.sqrt(V))\n",
    "\n",
    "initial_params = jnp.array([\n",
    "    jnp.log(0.01), # mu\n",
    "    jnp.log(0.1), # kappa\n",
    "    jnp.log(0.05), # theta\n",
    "    jnp.log(0.1), # xi\n",
    "    jnp.log((1 + 0.5)/(1 - 0.5)), # rho \n",
    "    jnp.log(0.1) # V_0\n",
    "])\n",
    "\n",
    "# Initialize POMP model\n",
    "sp500_model = pypomp.pomp_class.Pomp(\n",
    "    rinit = rinit,\n",
    "    rproc = rproc,\n",
    "    dmeas = dmeasure,\n",
    "    # Observed log returns\n",
    "    ys = jnp.array(sp500['y'].values),\n",
    "    # Initial parameters\n",
    "    theta = initial_params,\n",
    "    # Covariates(time)\n",
    "    covars = jnp.insert(sp500['y'].values, 0, 0)\n",
    ")"
   ]
  },
  {
   "cell_type": "code",
   "execution_count": 10,
   "metadata": {},
   "outputs": [
    {
     "name": "stderr",
     "output_type": "stream",
     "text": [
      "100%|██████████| 2/2 [00:00<00:00,  8.65it/s]\n"
     ]
    },
    {
     "data": {
      "text/plain": [
       "(Array([          nan, 3.8734447e+12, 2.5241854e+18], dtype=float32),\n",
       " Array([[[ -4.6051702,  -2.3025851,  -2.9957323,  -2.3025851,\n",
       "            1.0986123,  -2.3025851],\n",
       "         [ -4.6051702,  -2.3025851,  -2.9957323,  -2.3025851,\n",
       "            1.0986123,  -2.3025851]],\n",
       " \n",
       "        [[-22.105448 , -28.206902 ,  30.869715 , -16.268538 ,\n",
       "           13.452975 ,  22.75239  ],\n",
       "         [-21.151377 , -28.117992 ,  30.8179   , -15.638716 ,\n",
       "           13.212707 ,  23.042269 ]],\n",
       " \n",
       "        [[-29.537558 , -41.023975 ,  47.726685 , -22.385542 ,\n",
       "           19.291517 ,  35.679768 ],\n",
       "         [-25.552366 , -40.652378 ,  47.51001  , -19.75511  ,\n",
       "           18.287771 ,  36.889896 ]]], dtype=float32))"
      ]
     },
     "execution_count": 10,
     "metadata": {},
     "output_type": "execute_result"
    }
   ],
   "source": [
    "pypomp.fit.fit(\n",
    "    pomp_object = sp500_model,\n",
    "    J = NP_FITR,\n",
    "    Jh = 5,\n",
    "    M = NREPS_FITR,\n",
    "    a = 0.5,\n",
    "    itns = 2,\n",
    "    sigmas = 0.02,\n",
    "    sigmas_init = 1e-20,\n",
    "    mode = \"IF2\"\n",
    ")"
   ]
  },
  {
   "cell_type": "code",
   "execution_count": 6,
   "metadata": {},
   "outputs": [
    {
     "data": {
      "text/plain": [
       "Array([ 0.        ,  0.00218424, -0.0010464 , ...,  0.00953417,\n",
       "        0.00580437, -0.00481504], dtype=float32)"
      ]
     },
     "execution_count": 6,
     "metadata": {},
     "output_type": "execute_result"
    }
   ],
   "source": [
    "jnp.insert(sp500['y'].values, 0, 0)"
   ]
  }
 ],
 "metadata": {
  "kernelspec": {
   "display_name": ".venv",
   "language": "python",
   "name": "python3"
  },
  "language_info": {
   "codemirror_mode": {
    "name": "ipython",
    "version": 3
   },
   "file_extension": ".py",
   "mimetype": "text/x-python",
   "name": "python",
   "nbconvert_exporter": "python",
   "pygments_lexer": "ipython3",
   "version": "3.12.6"
  }
 },
 "nbformat": 4,
 "nbformat_minor": 2
}
